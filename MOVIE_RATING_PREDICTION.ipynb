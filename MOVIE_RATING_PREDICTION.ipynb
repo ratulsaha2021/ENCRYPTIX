{
  "nbformat": 4,
  "nbformat_minor": 0,
  "metadata": {
    "colab": {
      "provenance": []
    },
    "kernelspec": {
      "name": "python3",
      "display_name": "Python 3"
    },
    "language_info": {
      "name": "python"
    }
  },
  "cells": [
    {
      "cell_type": "code",
      "execution_count": 9,
      "metadata": {
        "colab": {
          "base_uri": "https://localhost:8080/"
        },
        "id": "N9-xbAwV6GBN",
        "outputId": "bd8e8df7-95d9-43d4-a4ea-66563bb530e0"
      },
      "outputs": [
        {
          "output_type": "stream",
          "name": "stdout",
          "text": [
            "                                 Name    Year Duration            Genre  \\\n",
            "0                                         NaN      NaN            Drama   \n",
            "1  #Gadhvi (He thought he was Gandhi)  (2019)  109 min            Drama   \n",
            "2                         #Homecoming  (2021)   90 min   Drama, Musical   \n",
            "3                             #Yaaram  (2019)  110 min  Comedy, Romance   \n",
            "4                   ...And Once Again  (2010)  105 min            Drama   \n",
            "\n",
            "   Rating Votes            Director       Actor 1             Actor 2  \\\n",
            "0     NaN   NaN       J.S. Randhawa      Manmauji              Birbal   \n",
            "1     7.0     8       Gaurav Bakshi  Rasika Dugal      Vivek Ghamande   \n",
            "2     NaN   NaN  Soumyajit Majumdar  Sayani Gupta   Plabita Borthakur   \n",
            "3     4.4    35          Ovais Khan       Prateik          Ishita Raj   \n",
            "4     NaN   NaN        Amol Palekar  Rajat Kapoor  Rituparna Sengupta   \n",
            "\n",
            "           Actor 3  \n",
            "0  Rajendra Bhatia  \n",
            "1    Arvind Jangid  \n",
            "2       Roy Angana  \n",
            "3  Siddhant Kapoor  \n",
            "4      Antara Mali  \n",
            "Index(['Name', 'Year', 'Duration', 'Genre', 'Rating', 'Votes', 'Director',\n",
            "       'Actor 1', 'Actor 2', 'Actor 3'],\n",
            "      dtype='object')\n"
          ]
        }
      ],
      "source": [
        "import pandas as pd\n",
        "import numpy as np\n",
        "from sklearn.model_selection import train_test_split\n",
        "from sklearn.preprocessing import OneHotEncoder\n",
        "from sklearn.linear_model import LinearRegression\n",
        "from sklearn.metrics import mean_absolute_error, mean_squared_error, r2_score\n",
        "from sklearn.compose import ColumnTransformer\n",
        "from sklearn.pipeline import Pipeline\n",
        "from sklearn.impute import SimpleImputer\n",
        "\n",
        "# Load the dataset with a specified encoding\n",
        "df = pd.read_csv('/content/IMDb Movies India.csv', encoding='ISO-8859-1')\n",
        "\n",
        "# Display the first few rows of the dataframe\n",
        "print(df.head())\n",
        "print(df.columns)"
      ]
    },
    {
      "cell_type": "code",
      "source": [
        "# Handle missing values\n",
        "\n",
        "# Impute missing ratings with the mean rating\n",
        "imputer = SimpleImputer(strategy='mean')\n",
        "y = imputer.fit_transform(df['Rating'].values.reshape(-1, 1))[:, 0]\n",
        "\n",
        "# Fill missing values in categorical features with 'Unknown'\n",
        "df['Genre'].fillna('Unknown', inplace=True)\n",
        "df['Director'].fillna('Unknown', inplace=True)\n",
        "df['Actor 1'].fillna('Unknown', inplace=True)\n",
        "df['Actor 2'].fillna('Unknown', inplace=True)\n",
        "df['Actor 3'].fillna('Unknown', inplace=True)\n",
        "\n",
        "# Simplify Genre, Director, and Actors columns\n",
        "df['Genre'] = df['Genre'].apply(lambda x: x.split(',')[0])\n",
        "df['Director'] = df['Director'].apply(lambda x: x.split(',')[0])\n",
        "df['Actors'] = df['Actor 1'] + ',' + df['Actor 2'] + ',' + df['Actor 3']\n",
        "\n",
        "# Define features and target variable\n",
        "X = df[['Genre', 'Director', 'Actors']]\n",
        "\n",
        "# Preprocessing pipeline for categorical features\n",
        "preprocessor = ColumnTransformer(\n",
        "    transformers=[\n",
        "        ('genre', OneHotEncoder(handle_unknown='ignore'), ['Genre']),\n",
        "        ('director', OneHotEncoder(handle_unknown='ignore'), ['Director']),\n",
        "        ('actors', OneHotEncoder(handle_unknown='ignore'), ['Actors']),\n",
        "    ])"
      ],
      "metadata": {
        "id": "teVdKKVveElX"
      },
      "execution_count": 10,
      "outputs": []
    },
    {
      "cell_type": "code",
      "source": [
        "# Model pipeline\n",
        "model = Pipeline(steps=[('preprocessor', preprocessor), ('regressor', LinearRegression())])\n",
        "\n",
        "# Split the data into training and testing sets\n",
        "X_train, X_test, y_train, y_test = train_test_split(X, y, test_size=0.2, random_state=42)\n",
        "\n",
        "# Train the model\n",
        "model.fit(X_train, y_train)\n",
        "\n",
        "# Make predictions\n",
        "y_pred = model.predict(X_test)\n",
        "\n",
        "# Evaluate the model\n",
        "mae = mean_absolute_error(y_test, y_pred)\n",
        "mse = mean_squared_error(y_test, y_pred)\n",
        "rmse = np.sqrt(mse)\n",
        "r2 = r2_score(y_test, y_pred)\n",
        "print(f'Mean Absolute Error (MAE): {mae}')\n",
        "print(f'Mean Squared Error (MSE): {mse}')\n",
        "print(f'Root Mean Squared Error (RMSE): {rmse}')\n",
        "print(f'R-squared (R2): {r2}')"
      ],
      "metadata": {
        "colab": {
          "base_uri": "https://localhost:8080/"
        },
        "id": "Aa-EME7seFi5",
        "outputId": "95607c5f-7d91-4db0-e132-e50b58e27929"
      },
      "execution_count": 11,
      "outputs": [
        {
          "output_type": "stream",
          "name": "stdout",
          "text": [
            "Mean Absolute Error (MAE): 0.6029329854044595\n",
            "Mean Squared Error (MSE): 0.9419704356253604\n",
            "Root Mean Squared Error (RMSE): 0.97055161409652\n",
            "R-squared (R2): 0.02130641030007685\n"
          ]
        }
      ]
    }
  ]
}